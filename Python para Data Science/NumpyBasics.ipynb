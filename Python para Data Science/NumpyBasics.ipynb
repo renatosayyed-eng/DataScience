{
 "cells": [
  {
   "cell_type": "markdown",
   "metadata": {},
   "source": [
    "# <font color = aquamarine> Numpy\n",
    "  <font color = azure>\n",
    "\n",
    "<div style = \"text-align : left\"> NumPy is the fundamental package for scientific computing in Python. It is a Python library that provides a multidimensional array object, various derived objects (such as masked arrays and matrices), and an assortment of routines for fast operations on arrays, including mathematical, logical, shape manipulation, sorting, selecting, I/O, discrete Fourier transforms, basic linear algebra, basic statistical operations, random simulation and much more. \n",
    "</div> \n",
    "\n",
    "<font color = aquamarine>\n",
    "\n",
    "**Documentation**: \n",
    " - **Numpy**: https://numpy.org/doc/stable/\n",
    " - **Python**: https://docs.python.org/3/library/index.html"
   ]
  },
  {
   "cell_type": "markdown",
   "metadata": {},
   "source": [
    "### <font color = Azure> Importing Numpy"
   ]
  },
  {
   "cell_type": "code",
   "execution_count": 3,
   "metadata": {},
   "outputs": [],
   "source": [
    "import numpy as np"
   ]
  },
  {
   "cell_type": "markdown",
   "metadata": {},
   "source": [
    "### <font color = Azure> Arrays"
   ]
  },
  {
   "cell_type": "markdown",
   "metadata": {},
   "source": [
    "##### <font color = antiquewhite> Building Arrays"
   ]
  },
  {
   "cell_type": "code",
   "execution_count": 4,
   "metadata": {},
   "outputs": [
    {
     "name": "stdout",
     "output_type": "stream",
     "text": [
      "arange: [0 1 2 3 4 5 6 7 8 9]\n",
      "np.array: [1 2 3 4 5]\n",
      "np.loadtxt: [10 20 30 40 50]\n"
     ]
    }
   ],
   "source": [
    "# Using np.arange\n",
    "array = np.arange(10)\n",
    "print(\"arange:\", array)\n",
    "\n",
    "# Using np.array with a list\n",
    "array = np.array([1, 2, 3, 4, 5])\n",
    "print(\"np.array:\", array)\n",
    "\n",
    "# Using an external file\n",
    "array = np.loadtxt('example_data.txt', delimiter=',', dtype = \"int\")\n",
    "print(\"np.loadtxt:\", array)"
   ]
  },
  {
   "cell_type": "markdown",
   "metadata": {},
   "source": [
    "##### <font color = antiquewhite> Two dimensional arrays"
   ]
  },
  {
   "cell_type": "code",
   "execution_count": 12,
   "metadata": {},
   "outputs": [
    {
     "name": "stdout",
     "output_type": "stream",
     "text": [
      "Two dimensional array (Matrix):\n",
      "[[1 3 5 7 9]\n",
      " [0 2 4 6 8]]\n"
     ]
    }
   ],
   "source": [
    "array = np.array([[1,3,5,7,9],[0,2,4,6,8]])\n",
    "print(\"Two dimensional array (Matrix):\")\n",
    "print(array)"
   ]
  },
  {
   "cell_type": "markdown",
   "metadata": {},
   "source": [
    "##### <font color = antiquewhite> Attributes"
   ]
  },
  {
   "cell_type": "code",
   "execution_count": 7,
   "metadata": {},
   "outputs": [
    {
     "name": "stdout",
     "output_type": "stream",
     "text": [
      "Shape:  (2, 5) \n",
      "Dimensions:  2 \n",
      "Size:  10 \n",
      "Data type:  int32\n"
     ]
    }
   ],
   "source": [
    "print('Shape: ', array.shape, '\\nDimensions: ', array.ndim, '\\nSize: ', array.size, '\\nData type: ', array.dtype) \t"
   ]
  },
  {
   "cell_type": "markdown",
   "metadata": {},
   "source": [
    "##### <font color = antiquewhite> Methods"
   ]
  },
  {
   "cell_type": "code",
   "execution_count": 15,
   "metadata": {},
   "outputs": [
    {
     "data": {
      "text/plain": [
       "array([[1, 0],\n",
       "       [3, 2],\n",
       "       [5, 4],\n",
       "       [7, 6],\n",
       "       [9, 8]])"
      ]
     },
     "execution_count": 15,
     "metadata": {},
     "output_type": "execute_result"
    }
   ],
   "source": [
    "# Transpose\n",
    "array.T"
   ]
  },
  {
   "cell_type": "code",
   "execution_count": 14,
   "metadata": {},
   "outputs": [
    {
     "data": {
      "text/plain": [
       "[[1, 3, 5, 7, 9], [0, 2, 4, 6, 8]]"
      ]
     },
     "execution_count": 14,
     "metadata": {},
     "output_type": "execute_result"
    }
   ],
   "source": [
    "# To list\n",
    "array.tolist()"
   ]
  },
  {
   "cell_type": "code",
   "execution_count": 27,
   "metadata": {},
   "outputs": [
    {
     "name": "stdout",
     "output_type": "stream",
     "text": [
      "[[1 3]\n",
      " [5 7]\n",
      " [9 0]\n",
      " [2 4]\n",
      " [6 8]]\n",
      "\n",
      " [[1 4]\n",
      " [0 7]\n",
      " [3 6]\n",
      " [2 9]\n",
      " [5 8]]\n"
     ]
    }
   ],
   "source": [
    "# Reshape\n",
    "print(array.reshape((5,2),order = 'C'))\n",
    "print('\\n',array.reshape((5,2),order = 'F'))"
   ]
  },
  {
   "cell_type": "code",
   "execution_count": 32,
   "metadata": {},
   "outputs": [
    {
     "data": {
      "text/plain": [
       "array([[1, 3, 5, 7, 9],\n",
       "       [0, 2, 4, 6, 8],\n",
       "       [0, 0, 0, 0, 0]])"
      ]
     },
     "execution_count": 32,
     "metadata": {},
     "output_type": "execute_result"
    }
   ],
   "source": [
    "# Resize\n",
    "array.resize((3,5), refcheck=False)\n",
    "array"
   ]
  },
  {
   "cell_type": "markdown",
   "metadata": {},
   "source": [
    "##### <font color = antiquewhite> Statistics"
   ]
  },
  {
   "cell_type": "code",
   "execution_count": 33,
   "metadata": {},
   "outputs": [
    {
     "name": "stdout",
     "output_type": "stream",
     "text": [
      "Mean: 20.666666666666668\n"
     ]
    }
   ],
   "source": [
    "# Mean\n",
    "array = np.array([1,5,18,20,47,16,12,28,39])\n",
    "print(\"Mean:\", array.mean())"
   ]
  },
  {
   "cell_type": "code",
   "execution_count": 34,
   "metadata": {},
   "outputs": [
    {
     "name": "stdout",
     "output_type": "stream",
     "text": [
      "Standard Deviation: 14.220486005134362\n"
     ]
    }
   ],
   "source": [
    "# Standard Deviation\n",
    "print(\"Standard Deviation:\", array.std())"
   ]
  },
  {
   "cell_type": "code",
   "execution_count": 35,
   "metadata": {},
   "outputs": [
    {
     "name": "stdout",
     "output_type": "stream",
     "text": [
      "Sum: 186\n"
     ]
    }
   ],
   "source": [
    "# Sum\n",
    "print(\"Sum:\", array.sum())"
   ]
  },
  {
   "cell_type": "markdown",
   "metadata": {},
   "source": [
    "##### <font color = antiquewhite> Selection"
   ]
  },
  {
   "cell_type": "code",
   "execution_count": 40,
   "metadata": {},
   "outputs": [
    {
     "name": "stdout",
     "output_type": "stream",
     "text": [
      "[ 1  5 18 20 47 16 12 28 39]\n",
      "First element: 1\n",
      "Last element: 39\n",
      "First 3 elements: [ 1  5 18]\n",
      "Last 3 elements: [12 28 39]\n",
      "Every two elements[ 1 18 47 12 39]\n"
     ]
    }
   ],
   "source": [
    "print(array)\n",
    "print(f'First element: {array[0]}\\nLast element: {array[-1]}\\nFirst 3 elements: {array[:3]}\\nLast 3 elements: {array[-3:]}\\nEvery two elements{array[::2]}')\t"
   ]
  },
  {
   "cell_type": "code",
   "execution_count": 44,
   "metadata": {},
   "outputs": [
    {
     "name": "stdout",
     "output_type": "stream",
     "text": [
      "[[1 2 3]\n",
      " [4 5 6]\n",
      " [7 8 9]]\n",
      "First line: [1 2 3]\n",
      "Last line: [7 8 9]\n",
      "First column: [1 4 7]\n",
      "Last column: [3 6 9]\n",
      "First column, second line: 4\n"
     ]
    }
   ],
   "source": [
    "array = np.array([[1,2,3],[4,5,6],[7,8,9]])\n",
    "print(array)\n",
    "print(f'First line: {array[0]}\\nLast line: {array[-1]}\\nFirst column: {array[:,0]}\\nLast column: {array[:,-1]}\\nFirst column, second line: {array[1,0]}')"
   ]
  },
  {
   "cell_type": "markdown",
   "metadata": {},
   "source": [
    "##### <font color = antiquewhite> Operations"
   ]
  },
  {
   "cell_type": "code",
   "execution_count": 51,
   "metadata": {},
   "outputs": [
    {
     "name": "stdout",
     "output_type": "stream",
     "text": [
      "[ 210.    306.75 2271.8   409.    200.5 ]\n",
      "[   5.5125       27.88016667   12.73635135  167.281      5025.03125   ]\n"
     ]
    }
   ],
   "source": [
    "value = np.array([10.5,20.45,30.7,40.9,100.25])\n",
    "amount = np.array([20,15,74,10,2])\n",
    "\n",
    "print(value * amount)\n",
    "print(value**2 / amount)"
   ]
  },
  {
   "cell_type": "markdown",
   "metadata": {},
   "source": [
    "##### <font color = antiquewhite> Comparasion between arrays and lists"
   ]
  },
  {
   "cell_type": "code",
   "execution_count": 45,
   "metadata": {},
   "outputs": [],
   "source": [
    "np_array = np.arange(1000000)\n",
    "py_list = list(range(1000000))"
   ]
  },
  {
   "cell_type": "code",
   "execution_count": 46,
   "metadata": {},
   "outputs": [
    {
     "name": "stdout",
     "output_type": "stream",
     "text": [
      "Wall time: 45 ms\n"
     ]
    }
   ],
   "source": [
    "%time for _ in range(100): np_array *= 2"
   ]
  },
  {
   "cell_type": "code",
   "execution_count": 47,
   "metadata": {},
   "outputs": [
    {
     "name": "stdout",
     "output_type": "stream",
     "text": [
      "Wall time: 7.51 s\n"
     ]
    }
   ],
   "source": [
    "%time for _ in range(100): py_list = [x * 2 for x in py_list]"
   ]
  }
 ],
 "metadata": {
  "interpreter": {
   "hash": "cc53f4c335c140538ff2e6c419134c67625017d0ad13cd56b84e1cb96a54b243"
  },
  "kernelspec": {
   "display_name": "Python 3.10.1 64-bit",
   "language": "python",
   "name": "python3"
  },
  "language_info": {
   "codemirror_mode": {
    "name": "ipython",
    "version": 3
   },
   "file_extension": ".py",
   "mimetype": "text/x-python",
   "name": "python",
   "nbconvert_exporter": "python",
   "pygments_lexer": "ipython3",
   "version": "3.10.1"
  },
  "orig_nbformat": 4
 },
 "nbformat": 4,
 "nbformat_minor": 2
}
